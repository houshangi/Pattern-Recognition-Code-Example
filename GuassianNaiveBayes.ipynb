{
  "nbformat": 4,
  "nbformat_minor": 0,
  "metadata": {
    "colab": {
      "name": "GuassianNaiveBayes.ipynb",
      "provenance": []
    },
    "kernelspec": {
      "name": "python3",
      "display_name": "Python 3"
    },
    "language_info": {
      "name": "python"
    }
  },
  "cells": [
    {
      "cell_type": "code",
      "execution_count": 1,
      "metadata": {
        "id": "oCJ-ravhYsZR"
      },
      "outputs": [],
      "source": [
        "import numpy as np\n",
        "import matplotlib.pyplot as plt\n",
        "from scipy import linalg\n",
        "import pandas as pd"
      ]
    },
    {
      "cell_type": "code",
      "source": [
        "data = pd.read_csv(\"/content/drive/MyDrive/data cancer.csv\")\n",
        "data.head()"
      ],
      "metadata": {
        "colab": {
          "base_uri": "https://localhost:8080/",
          "height": 317
        },
        "id": "UILBTHaNZIVy",
        "outputId": "1cde6217-de12-41cb-b2be-5e4bc3ff389f"
      },
      "execution_count": 15,
      "outputs": [
        {
          "output_type": "execute_result",
          "data": {
            "text/plain": [
              "         id diagnosis  radius_mean  texture_mean  perimeter_mean  area_mean  \\\n",
              "0    842302         M        17.99         10.38          122.80     1001.0   \n",
              "1    842517         M        20.57         17.77          132.90     1326.0   \n",
              "2  84300903         M        19.69         21.25          130.00     1203.0   \n",
              "3  84348301         M        11.42         20.38           77.58      386.1   \n",
              "4  84358402         M        20.29         14.34          135.10     1297.0   \n",
              "\n",
              "   smoothness_mean  compactness_mean  concavity_mean  concave points_mean  \\\n",
              "0          0.11840           0.27760          0.3001              0.14710   \n",
              "1          0.08474           0.07864          0.0869              0.07017   \n",
              "2          0.10960           0.15990          0.1974              0.12790   \n",
              "3          0.14250           0.28390          0.2414              0.10520   \n",
              "4          0.10030           0.13280          0.1980              0.10430   \n",
              "\n",
              "   ...  texture_worst  perimeter_worst  area_worst  smoothness_worst  \\\n",
              "0  ...          17.33           184.60      2019.0            0.1622   \n",
              "1  ...          23.41           158.80      1956.0            0.1238   \n",
              "2  ...          25.53           152.50      1709.0            0.1444   \n",
              "3  ...          26.50            98.87       567.7            0.2098   \n",
              "4  ...          16.67           152.20      1575.0            0.1374   \n",
              "\n",
              "   compactness_worst  concavity_worst  concave points_worst  symmetry_worst  \\\n",
              "0             0.6656           0.7119                0.2654          0.4601   \n",
              "1             0.1866           0.2416                0.1860          0.2750   \n",
              "2             0.4245           0.4504                0.2430          0.3613   \n",
              "3             0.8663           0.6869                0.2575          0.6638   \n",
              "4             0.2050           0.4000                0.1625          0.2364   \n",
              "\n",
              "   fractal_dimension_worst  Unnamed: 32  \n",
              "0                  0.11890          NaN  \n",
              "1                  0.08902          NaN  \n",
              "2                  0.08758          NaN  \n",
              "3                  0.17300          NaN  \n",
              "4                  0.07678          NaN  \n",
              "\n",
              "[5 rows x 33 columns]"
            ],
            "text/html": [
              "\n",
              "  <div id=\"df-2e82f9fd-b976-4772-a7b1-9394081a9af9\">\n",
              "    <div class=\"colab-df-container\">\n",
              "      <div>\n",
              "<style scoped>\n",
              "    .dataframe tbody tr th:only-of-type {\n",
              "        vertical-align: middle;\n",
              "    }\n",
              "\n",
              "    .dataframe tbody tr th {\n",
              "        vertical-align: top;\n",
              "    }\n",
              "\n",
              "    .dataframe thead th {\n",
              "        text-align: right;\n",
              "    }\n",
              "</style>\n",
              "<table border=\"1\" class=\"dataframe\">\n",
              "  <thead>\n",
              "    <tr style=\"text-align: right;\">\n",
              "      <th></th>\n",
              "      <th>id</th>\n",
              "      <th>diagnosis</th>\n",
              "      <th>radius_mean</th>\n",
              "      <th>texture_mean</th>\n",
              "      <th>perimeter_mean</th>\n",
              "      <th>area_mean</th>\n",
              "      <th>smoothness_mean</th>\n",
              "      <th>compactness_mean</th>\n",
              "      <th>concavity_mean</th>\n",
              "      <th>concave points_mean</th>\n",
              "      <th>...</th>\n",
              "      <th>texture_worst</th>\n",
              "      <th>perimeter_worst</th>\n",
              "      <th>area_worst</th>\n",
              "      <th>smoothness_worst</th>\n",
              "      <th>compactness_worst</th>\n",
              "      <th>concavity_worst</th>\n",
              "      <th>concave points_worst</th>\n",
              "      <th>symmetry_worst</th>\n",
              "      <th>fractal_dimension_worst</th>\n",
              "      <th>Unnamed: 32</th>\n",
              "    </tr>\n",
              "  </thead>\n",
              "  <tbody>\n",
              "    <tr>\n",
              "      <th>0</th>\n",
              "      <td>842302</td>\n",
              "      <td>M</td>\n",
              "      <td>17.99</td>\n",
              "      <td>10.38</td>\n",
              "      <td>122.80</td>\n",
              "      <td>1001.0</td>\n",
              "      <td>0.11840</td>\n",
              "      <td>0.27760</td>\n",
              "      <td>0.3001</td>\n",
              "      <td>0.14710</td>\n",
              "      <td>...</td>\n",
              "      <td>17.33</td>\n",
              "      <td>184.60</td>\n",
              "      <td>2019.0</td>\n",
              "      <td>0.1622</td>\n",
              "      <td>0.6656</td>\n",
              "      <td>0.7119</td>\n",
              "      <td>0.2654</td>\n",
              "      <td>0.4601</td>\n",
              "      <td>0.11890</td>\n",
              "      <td>NaN</td>\n",
              "    </tr>\n",
              "    <tr>\n",
              "      <th>1</th>\n",
              "      <td>842517</td>\n",
              "      <td>M</td>\n",
              "      <td>20.57</td>\n",
              "      <td>17.77</td>\n",
              "      <td>132.90</td>\n",
              "      <td>1326.0</td>\n",
              "      <td>0.08474</td>\n",
              "      <td>0.07864</td>\n",
              "      <td>0.0869</td>\n",
              "      <td>0.07017</td>\n",
              "      <td>...</td>\n",
              "      <td>23.41</td>\n",
              "      <td>158.80</td>\n",
              "      <td>1956.0</td>\n",
              "      <td>0.1238</td>\n",
              "      <td>0.1866</td>\n",
              "      <td>0.2416</td>\n",
              "      <td>0.1860</td>\n",
              "      <td>0.2750</td>\n",
              "      <td>0.08902</td>\n",
              "      <td>NaN</td>\n",
              "    </tr>\n",
              "    <tr>\n",
              "      <th>2</th>\n",
              "      <td>84300903</td>\n",
              "      <td>M</td>\n",
              "      <td>19.69</td>\n",
              "      <td>21.25</td>\n",
              "      <td>130.00</td>\n",
              "      <td>1203.0</td>\n",
              "      <td>0.10960</td>\n",
              "      <td>0.15990</td>\n",
              "      <td>0.1974</td>\n",
              "      <td>0.12790</td>\n",
              "      <td>...</td>\n",
              "      <td>25.53</td>\n",
              "      <td>152.50</td>\n",
              "      <td>1709.0</td>\n",
              "      <td>0.1444</td>\n",
              "      <td>0.4245</td>\n",
              "      <td>0.4504</td>\n",
              "      <td>0.2430</td>\n",
              "      <td>0.3613</td>\n",
              "      <td>0.08758</td>\n",
              "      <td>NaN</td>\n",
              "    </tr>\n",
              "    <tr>\n",
              "      <th>3</th>\n",
              "      <td>84348301</td>\n",
              "      <td>M</td>\n",
              "      <td>11.42</td>\n",
              "      <td>20.38</td>\n",
              "      <td>77.58</td>\n",
              "      <td>386.1</td>\n",
              "      <td>0.14250</td>\n",
              "      <td>0.28390</td>\n",
              "      <td>0.2414</td>\n",
              "      <td>0.10520</td>\n",
              "      <td>...</td>\n",
              "      <td>26.50</td>\n",
              "      <td>98.87</td>\n",
              "      <td>567.7</td>\n",
              "      <td>0.2098</td>\n",
              "      <td>0.8663</td>\n",
              "      <td>0.6869</td>\n",
              "      <td>0.2575</td>\n",
              "      <td>0.6638</td>\n",
              "      <td>0.17300</td>\n",
              "      <td>NaN</td>\n",
              "    </tr>\n",
              "    <tr>\n",
              "      <th>4</th>\n",
              "      <td>84358402</td>\n",
              "      <td>M</td>\n",
              "      <td>20.29</td>\n",
              "      <td>14.34</td>\n",
              "      <td>135.10</td>\n",
              "      <td>1297.0</td>\n",
              "      <td>0.10030</td>\n",
              "      <td>0.13280</td>\n",
              "      <td>0.1980</td>\n",
              "      <td>0.10430</td>\n",
              "      <td>...</td>\n",
              "      <td>16.67</td>\n",
              "      <td>152.20</td>\n",
              "      <td>1575.0</td>\n",
              "      <td>0.1374</td>\n",
              "      <td>0.2050</td>\n",
              "      <td>0.4000</td>\n",
              "      <td>0.1625</td>\n",
              "      <td>0.2364</td>\n",
              "      <td>0.07678</td>\n",
              "      <td>NaN</td>\n",
              "    </tr>\n",
              "  </tbody>\n",
              "</table>\n",
              "<p>5 rows × 33 columns</p>\n",
              "</div>\n",
              "      <button class=\"colab-df-convert\" onclick=\"convertToInteractive('df-2e82f9fd-b976-4772-a7b1-9394081a9af9')\"\n",
              "              title=\"Convert this dataframe to an interactive table.\"\n",
              "              style=\"display:none;\">\n",
              "        \n",
              "  <svg xmlns=\"http://www.w3.org/2000/svg\" height=\"24px\"viewBox=\"0 0 24 24\"\n",
              "       width=\"24px\">\n",
              "    <path d=\"M0 0h24v24H0V0z\" fill=\"none\"/>\n",
              "    <path d=\"M18.56 5.44l.94 2.06.94-2.06 2.06-.94-2.06-.94-.94-2.06-.94 2.06-2.06.94zm-11 1L8.5 8.5l.94-2.06 2.06-.94-2.06-.94L8.5 2.5l-.94 2.06-2.06.94zm10 10l.94 2.06.94-2.06 2.06-.94-2.06-.94-.94-2.06-.94 2.06-2.06.94z\"/><path d=\"M17.41 7.96l-1.37-1.37c-.4-.4-.92-.59-1.43-.59-.52 0-1.04.2-1.43.59L10.3 9.45l-7.72 7.72c-.78.78-.78 2.05 0 2.83L4 21.41c.39.39.9.59 1.41.59.51 0 1.02-.2 1.41-.59l7.78-7.78 2.81-2.81c.8-.78.8-2.07 0-2.86zM5.41 20L4 18.59l7.72-7.72 1.47 1.35L5.41 20z\"/>\n",
              "  </svg>\n",
              "      </button>\n",
              "      \n",
              "  <style>\n",
              "    .colab-df-container {\n",
              "      display:flex;\n",
              "      flex-wrap:wrap;\n",
              "      gap: 12px;\n",
              "    }\n",
              "\n",
              "    .colab-df-convert {\n",
              "      background-color: #E8F0FE;\n",
              "      border: none;\n",
              "      border-radius: 50%;\n",
              "      cursor: pointer;\n",
              "      display: none;\n",
              "      fill: #1967D2;\n",
              "      height: 32px;\n",
              "      padding: 0 0 0 0;\n",
              "      width: 32px;\n",
              "    }\n",
              "\n",
              "    .colab-df-convert:hover {\n",
              "      background-color: #E2EBFA;\n",
              "      box-shadow: 0px 1px 2px rgba(60, 64, 67, 0.3), 0px 1px 3px 1px rgba(60, 64, 67, 0.15);\n",
              "      fill: #174EA6;\n",
              "    }\n",
              "\n",
              "    [theme=dark] .colab-df-convert {\n",
              "      background-color: #3B4455;\n",
              "      fill: #D2E3FC;\n",
              "    }\n",
              "\n",
              "    [theme=dark] .colab-df-convert:hover {\n",
              "      background-color: #434B5C;\n",
              "      box-shadow: 0px 1px 3px 1px rgba(0, 0, 0, 0.15);\n",
              "      filter: drop-shadow(0px 1px 2px rgba(0, 0, 0, 0.3));\n",
              "      fill: #FFFFFF;\n",
              "    }\n",
              "  </style>\n",
              "\n",
              "      <script>\n",
              "        const buttonEl =\n",
              "          document.querySelector('#df-2e82f9fd-b976-4772-a7b1-9394081a9af9 button.colab-df-convert');\n",
              "        buttonEl.style.display =\n",
              "          google.colab.kernel.accessAllowed ? 'block' : 'none';\n",
              "\n",
              "        async function convertToInteractive(key) {\n",
              "          const element = document.querySelector('#df-2e82f9fd-b976-4772-a7b1-9394081a9af9');\n",
              "          const dataTable =\n",
              "            await google.colab.kernel.invokeFunction('convertToInteractive',\n",
              "                                                     [key], {});\n",
              "          if (!dataTable) return;\n",
              "\n",
              "          const docLinkHtml = 'Like what you see? Visit the ' +\n",
              "            '<a target=\"_blank\" href=https://colab.research.google.com/notebooks/data_table.ipynb>data table notebook</a>'\n",
              "            + ' to learn more about interactive tables.';\n",
              "          element.innerHTML = '';\n",
              "          dataTable['output_type'] = 'display_data';\n",
              "          await google.colab.output.renderOutput(dataTable, element);\n",
              "          const docLink = document.createElement('div');\n",
              "          docLink.innerHTML = docLinkHtml;\n",
              "          element.appendChild(docLink);\n",
              "        }\n",
              "      </script>\n",
              "    </div>\n",
              "  </div>\n",
              "  "
            ]
          },
          "metadata": {},
          "execution_count": 15
        }
      ]
    },
    {
      "cell_type": "code",
      "source": [
        "data.diagnosis.unique()\n",
        "data_diagnosis_map = {'M':0,'B':1}\n",
        "data['diagnosis'] = data['diagnosis'].map(data_diagnosis_map)\n",
        "data.diagnosis.unique()"
      ],
      "metadata": {
        "colab": {
          "base_uri": "https://localhost:8080/"
        },
        "id": "EjZbBq3wZZ4Q",
        "outputId": "5f57ef66-669b-43ec-f8b8-f58d0af09268"
      },
      "execution_count": 17,
      "outputs": [
        {
          "output_type": "execute_result",
          "data": {
            "text/plain": [
              "array([0, 1])"
            ]
          },
          "metadata": {},
          "execution_count": 17
        }
      ]
    },
    {
      "cell_type": "code",
      "source": [
        "X = data.drop(['diagnosis'], axis=1)\n",
        "y = data['diagnosis']"
      ],
      "metadata": {
        "id": "6GAg9aXTZoVT"
      },
      "execution_count": 18,
      "outputs": []
    },
    {
      "cell_type": "code",
      "source": [
        "from sklearn.preprocessing import StandardScaler\n",
        "# Standardizing the features\n",
        "X_std = StandardScaler().fit_transform(X)"
      ],
      "metadata": {
        "id": "2-hLLQZvaoRy"
      },
      "execution_count": 21,
      "outputs": []
    },
    {
      "cell_type": "code",
      "source": [
        "from sklearn.preprocessing import StandardScaler\n",
        "sc = StandardScaler()\n",
        "X_scaled = sc.fit_transform(X)"
      ],
      "metadata": {
        "id": "OLdz8kvXaxQt"
      },
      "execution_count": 22,
      "outputs": []
    },
    {
      "cell_type": "code",
      "source": [
        "from sklearn.model_selection import KFold \n",
        "kf = KFold(n_splits=3, random_state=1, shuffle=True) \n",
        "\n",
        "for train_index, test_index in kf.split(X_scaled):\n",
        "      print(\"Train:\", train_index, \"Validation:\",test_index)\n",
        "      x_train, x_test = X_scaled[train_index], X_scaled[test_index] \n",
        "      y_train, y_test = y[train_index], y[test_index]"
      ],
      "metadata": {
        "colab": {
          "base_uri": "https://localhost:8080/"
        },
        "id": "YH-X-Uuzatsi",
        "outputId": "9d0242c5-9e28-458d-caad-18e36ba75546"
      },
      "execution_count": 23,
      "outputs": [
        {
          "output_type": "stream",
          "name": "stdout",
          "text": [
            "Train: [  1   2   7   8  10  12  13  14  15  20  21  22  23  24  25  26  27  28\n",
            "  30  32  33  35  36  37  39  43  44  45  46  48  50  51  52  53  54  55\n",
            "  56  57  60  61  63  64  70  71  72  73  74  75  76  77  79  80  81  82\n",
            "  83  84  86  87  88  89  91  93  94  95  96  97  98  99 100 103 105 106\n",
            " 108 109 112 113 114 115 116 118 122 123 125 126 127 129 130 131 134 136\n",
            " 137 138 139 140 141 143 144 145 148 149 150 151 152 153 154 155 156 158\n",
            " 163 164 166 167 169 170 171 174 175 176 177 178 181 182 183 184 185 188\n",
            " 190 191 193 194 196 198 199 200 202 203 204 205 206 208 209 210 211 212\n",
            " 213 215 216 217 218 219 220 222 224 226 227 228 229 230 231 234 235 238\n",
            " 239 240 241 243 248 250 251 252 253 254 255 256 259 260 261 262 263 264\n",
            " 265 266 267 269 270 271 272 275 276 278 279 280 281 282 287 288 290 294\n",
            " 296 297 298 299 300 301 302 303 309 310 311 312 313 314 316 317 319 320\n",
            " 321 322 323 325 327 328 330 331 332 333 336 337 338 339 340 341 343 345\n",
            " 348 349 351 352 353 354 355 356 357 359 360 363 364 365 366 367 368 369\n",
            " 371 372 373 374 377 379 380 381 382 383 384 385 387 388 389 390 391 393\n",
            " 394 395 396 397 398 401 402 405 406 412 416 417 418 423 426 427 428 429\n",
            " 430 431 433 436 437 438 440 441 444 446 449 450 452 454 455 456 458 459\n",
            " 460 461 463 464 465 466 467 468 469 470 471 473 474 475 478 479 481 482\n",
            " 485 489 490 491 493 494 495 497 498 499 500 502 503 504 505 506 507 508\n",
            " 509 510 511 512 513 515 516 521 522 524 525 526 528 530 532 533 534 536\n",
            " 537 538 541 543 544 548 549 552 553 556 557 559 560 561 563 565 566 567\n",
            " 568] Validation: [  0   3   4   5   6   9  11  16  17  18  19  29  31  34  38  40  41  42\n",
            "  47  49  58  59  62  65  66  67  68  69  78  85  90  92 101 102 104 107\n",
            " 110 111 117 119 120 121 124 128 132 133 135 142 146 147 157 159 160 161\n",
            " 162 165 168 172 173 179 180 186 187 189 192 195 197 201 207 214 221 223\n",
            " 225 232 233 236 237 242 244 245 246 247 249 257 258 268 273 274 277 283\n",
            " 284 285 286 289 291 292 293 295 304 305 306 307 308 315 318 324 326 329\n",
            " 334 335 342 344 346 347 350 358 361 362 370 375 376 378 386 392 399 400\n",
            " 403 404 407 408 409 410 411 413 414 415 419 420 421 422 424 425 432 434\n",
            " 435 439 442 443 445 447 448 451 453 457 462 472 476 477 480 483 484 486\n",
            " 487 488 492 496 501 514 517 518 519 520 523 527 529 531 535 539 540 542\n",
            " 545 546 547 550 551 554 555 558 562 564]\n",
            "Train: [  0   2   3   4   5   6   7   9  10  11  15  16  17  18  19  20  21  22\n",
            "  24  25  26  29  30  31  34  36  37  38  40  41  42  43  45  47  49  52\n",
            "  54  56  57  58  59  60  62  64  65  66  67  68  69  71  72  74  75  76\n",
            "  77  78  83  85  86  87  90  92  94  96  97 101 102 103 104 107 110 111\n",
            " 114 116 117 118 119 120 121 124 126 128 129 130 132 133 134 135 136 137\n",
            " 140 141 142 143 144 146 147 148 149 151 152 155 157 159 160 161 162 165\n",
            " 166 168 170 172 173 176 177 178 179 180 181 182 183 184 186 187 189 190\n",
            " 192 193 194 195 196 197 198 199 200 201 202 203 205 207 209 210 212 214\n",
            " 215 216 217 219 220 221 223 225 231 232 233 235 236 237 239 240 242 243\n",
            " 244 245 246 247 248 249 252 253 254 257 258 259 262 263 264 266 268 269\n",
            " 273 274 276 277 278 279 281 282 283 284 285 286 288 289 291 292 293 295\n",
            " 296 297 299 301 302 303 304 305 306 307 308 309 313 315 316 317 318 319\n",
            " 321 324 325 326 327 329 332 333 334 335 336 337 338 340 342 343 344 346\n",
            " 347 348 350 352 353 354 356 357 358 359 361 362 367 369 370 371 375 376\n",
            " 377 378 380 381 384 386 387 389 390 391 392 393 397 398 399 400 401 403\n",
            " 404 405 407 408 409 410 411 412 413 414 415 416 418 419 420 421 422 424\n",
            " 425 431 432 434 435 439 441 442 443 445 447 448 450 451 452 453 454 455\n",
            " 456 457 458 461 462 466 468 469 471 472 473 474 475 476 477 478 480 483\n",
            " 484 486 487 488 489 490 491 492 494 496 497 501 503 505 506 508 513 514\n",
            " 515 516 517 518 519 520 522 523 525 527 529 530 531 533 534 535 537 539\n",
            " 540 542 543 544 545 546 547 548 550 551 553 554 555 556 557 558 561 562\n",
            " 564] Validation: [  1   8  12  13  14  23  27  28  32  33  35  39  44  46  48  50  51  53\n",
            "  55  61  63  70  73  79  80  81  82  84  88  89  91  93  95  98  99 100\n",
            " 105 106 108 109 112 113 115 122 123 125 127 131 138 139 145 150 153 154\n",
            " 156 158 163 164 167 169 171 174 175 185 188 191 204 206 208 211 213 218\n",
            " 222 224 226 227 228 229 230 234 238 241 250 251 255 256 260 261 265 267\n",
            " 270 271 272 275 280 287 290 294 298 300 310 311 312 314 320 322 323 328\n",
            " 330 331 339 341 345 349 351 355 360 363 364 365 366 368 372 373 374 379\n",
            " 382 383 385 388 394 395 396 402 406 417 423 426 427 428 429 430 433 436\n",
            " 437 438 440 444 446 449 459 460 463 464 465 467 470 479 481 482 485 493\n",
            " 495 498 499 500 502 504 507 509 510 511 512 521 524 526 528 532 536 538\n",
            " 541 549 552 559 560 563 565 566 567 568]\n",
            "Train: [  0   1   3   4   5   6   8   9  11  12  13  14  16  17  18  19  23  27\n",
            "  28  29  31  32  33  34  35  38  39  40  41  42  44  46  47  48  49  50\n",
            "  51  53  55  58  59  61  62  63  65  66  67  68  69  70  73  78  79  80\n",
            "  81  82  84  85  88  89  90  91  92  93  95  98  99 100 101 102 104 105\n",
            " 106 107 108 109 110 111 112 113 115 117 119 120 121 122 123 124 125 127\n",
            " 128 131 132 133 135 138 139 142 145 146 147 150 153 154 156 157 158 159\n",
            " 160 161 162 163 164 165 167 168 169 171 172 173 174 175 179 180 185 186\n",
            " 187 188 189 191 192 195 197 201 204 206 207 208 211 213 214 218 221 222\n",
            " 223 224 225 226 227 228 229 230 232 233 234 236 237 238 241 242 244 245\n",
            " 246 247 249 250 251 255 256 257 258 260 261 265 267 268 270 271 272 273\n",
            " 274 275 277 280 283 284 285 286 287 289 290 291 292 293 294 295 298 300\n",
            " 304 305 306 307 308 310 311 312 314 315 318 320 322 323 324 326 328 329\n",
            " 330 331 334 335 339 341 342 344 345 346 347 349 350 351 355 358 360 361\n",
            " 362 363 364 365 366 368 370 372 373 374 375 376 378 379 382 383 385 386\n",
            " 388 392 394 395 396 399 400 402 403 404 406 407 408 409 410 411 413 414\n",
            " 415 417 419 420 421 422 423 424 425 426 427 428 429 430 432 433 434 435\n",
            " 436 437 438 439 440 442 443 444 445 446 447 448 449 451 453 457 459 460\n",
            " 462 463 464 465 467 470 472 476 477 479 480 481 482 483 484 485 486 487\n",
            " 488 492 493 495 496 498 499 500 501 502 504 507 509 510 511 512 514 517\n",
            " 518 519 520 521 523 524 526 527 528 529 531 532 535 536 538 539 540 541\n",
            " 542 545 546 547 549 550 551 552 554 555 558 559 560 562 563 564 565 566\n",
            " 567 568] Validation: [  2   7  10  15  20  21  22  24  25  26  30  36  37  43  45  52  54  56\n",
            "  57  60  64  71  72  74  75  76  77  83  86  87  94  96  97 103 114 116\n",
            " 118 126 129 130 134 136 137 140 141 143 144 148 149 151 152 155 166 170\n",
            " 176 177 178 181 182 183 184 190 193 194 196 198 199 200 202 203 205 209\n",
            " 210 212 215 216 217 219 220 231 235 239 240 243 248 252 253 254 259 262\n",
            " 263 264 266 269 276 278 279 281 282 288 296 297 299 301 302 303 309 313\n",
            " 316 317 319 321 325 327 332 333 336 337 338 340 343 348 352 353 354 356\n",
            " 357 359 367 369 371 377 380 381 384 387 389 390 391 393 397 398 401 405\n",
            " 412 416 418 431 441 450 452 454 455 456 458 461 466 468 469 471 473 474\n",
            " 475 478 489 490 491 494 497 503 505 506 508 513 515 516 522 525 530 533\n",
            " 534 537 543 544 548 553 556 557 561]\n"
          ]
        }
      ]
    },
    {
      "cell_type": "code",
      "source": [
        "x_train= np.asarray(x_train)\n",
        "y_train= np.asarray(y_train)\n",
        "\n",
        "x_test= np.asarray(x_test)\n",
        "y_test= np.asarray(y_test)"
      ],
      "metadata": {
        "id": "S6D6dzTBaz1_"
      },
      "execution_count": 24,
      "outputs": []
    },
    {
      "cell_type": "code",
      "source": [
        "import numpy as np\n",
        "\n",
        "class GaussianNaiveBayes:\n",
        "\n",
        "    def fit(self, X, y):\n",
        "        n_samples, n_features = X.shape\n",
        "        self.classes = np.unique(y)\n",
        "        n_classes = len(self.classes)\n",
        "\n",
        "        self.means = np.zeros((n_classes, n_features), dtype=np.float64)\n",
        "        self.var = np.zeros((n_classes, n_features), dtype=np.float64)\n",
        "        self._priors =  np.zeros(n_classes, dtype=np.float64)\n",
        "\n",
        "        for i, c in enumerate(self.classes):\n",
        "            X_for_class_c = X[y==c]\n",
        "            self.means[i, :] = X_for_class_c.mean(axis=0)\n",
        "            self.var[i, :] = X_for_class_c.var(axis=0)\n",
        "            self._priors[i] = X_for_class_c.shape[0] / float(n_samples)\n",
        "\n",
        "    def _calculate_likelihood(self, class_idx, x):\n",
        "        mean = self.means[class_idx]\n",
        "        var = self.var[class_idx]\n",
        "        num = np.exp(- (x-mean)**2 / (2 * var))\n",
        "        denom = np.sqrt(2 * np.pi * var)\n",
        "        return num / denom\n",
        "\n",
        "    def predict(self, X):\n",
        "        y_pred = [self._classify_sample(x) for x in X]\n",
        "        return np.array(y_pred)\n",
        "\n",
        "    def _classify_sample(self, x):\n",
        "        posteriors = []\n",
        "\n",
        "        for i, c in enumerate(self.classes):\n",
        "            prior = np.log(self._priors[i])\n",
        "            posterior = np.sum(np.log(self._calculate_likelihood(i, x)))\n",
        "            posterior = prior + posterior\n",
        "            posteriors.append(posterior)\n",
        "            \n",
        "        return self.classes[np.argmax(posteriors)]"
      ],
      "metadata": {
        "id": "2tpWzvNXa4g3"
      },
      "execution_count": 26,
      "outputs": []
    },
    {
      "cell_type": "code",
      "source": [
        "nb = GaussianNaiveBayes()\n",
        "nb.fit(x_train, y_train)\n",
        "predictions = nb.predict(x_test)"
      ],
      "metadata": {
        "colab": {
          "base_uri": "https://localhost:8080/"
        },
        "id": "Kuln9prvcZ6P",
        "outputId": "553df3b6-f9e7-4f08-87b7-e7e99be52204"
      },
      "execution_count": 27,
      "outputs": [
        {
          "output_type": "stream",
          "name": "stderr",
          "text": [
            "/usr/local/lib/python3.7/dist-packages/ipykernel_launcher.py:36: RuntimeWarning: divide by zero encountered in log\n"
          ]
        }
      ]
    },
    {
      "cell_type": "code",
      "source": [
        "from sklearn.metrics import accuracy_score\n",
        "print(f\"NumPy Naive Bayes accuracy: {accuracy_score(y_test, predictions)}\")"
      ],
      "metadata": {
        "colab": {
          "base_uri": "https://localhost:8080/"
        },
        "id": "ixq7KjyLccDv",
        "outputId": "b7d6698e-ddff-47f8-ae29-7ceaa76efcb7"
      },
      "execution_count": 28,
      "outputs": [
        {
          "output_type": "stream",
          "name": "stdout",
          "text": [
            "NumPy Naive Bayes accuracy: 0.9417989417989417\n"
          ]
        }
      ]
    },
    {
      "cell_type": "code",
      "source": [
        "from sklearn.naive_bayes import GaussianNB\n",
        "classifier=GaussianNB()\n",
        "classifier.fit(x_train, y_train)\n",
        "predictions2 = classifier.predict(x_test)\n",
        "print(f\"NumPy Naive Bayes accuracy: {accuracy_score(y_test, predictions2)}\")"
      ],
      "metadata": {
        "colab": {
          "base_uri": "https://localhost:8080/"
        },
        "id": "zm60bDX0ce8A",
        "outputId": "5c7bd823-755c-4b0c-8baf-99898d25d1df"
      },
      "execution_count": 29,
      "outputs": [
        {
          "output_type": "stream",
          "name": "stdout",
          "text": [
            "NumPy Naive Bayes accuracy: 0.9417989417989417\n"
          ]
        }
      ]
    },
    {
      "cell_type": "code",
      "source": [
        "from numpy import mean\n",
        "from numpy import std\n",
        "from sklearn.model_selection import KFold\n",
        "from sklearn.model_selection import cross_val_score\n",
        "scores = cross_val_score(classifier, X, y, scoring='accuracy', cv=kf, n_jobs=-1)\n",
        "print(scores)\n",
        "print('Accuracy: %.3f (%.3f)' % (mean(scores), std(scores)))"
      ],
      "metadata": {
        "colab": {
          "base_uri": "https://localhost:8080/"
        },
        "id": "oc7IPAFCch1k",
        "outputId": "fbb18cde-a571-4301-91e7-220b4967e8f5"
      },
      "execution_count": 30,
      "outputs": [
        {
          "output_type": "stream",
          "name": "stdout",
          "text": [
            "[0.94736842 0.91578947 0.94179894]\n",
            "Accuracy: 0.935 (0.014)\n"
          ]
        }
      ]
    },
    {
      "cell_type": "code",
      "source": [
        "from sklearn.metrics import confusion_matrix\n",
        "from IPython.display import display\n",
        "import matplotlib.pyplot as plt\n",
        "from sklearn.metrics import roc_curve\n",
        "cm_holder = []\n",
        "for train_index, test_index in kf.split(X_scaled):\n",
        "      X_train, X_test = X_scaled[train_index], X_scaled[test_index] \n",
        "      y_train, y_test = y[train_index], y[test_index]\n",
        "      classifier.fit(X_train, y_train)\n",
        "      cm=confusion_matrix(y_test, classifier.predict(X_test))\n",
        "      print (cm)\n",
        "      print(10* '#')\n",
        "      plt.clf()\n",
        "      plt.imshow(cm, interpolation='nearest', cmap='Pastel2')\n",
        "      classNames = ['M','B']\n",
        "      plt.title('Confusion Matrix - Test Data')\n",
        "      plt.ylabel('True label')\n",
        "      plt.xlabel('Predicted label')\n",
        "      tick_marks = np.arange(len(classNames))\n",
        "      plt.xticks(tick_marks, classNames, rotation=45)\n",
        "      plt.yticks(tick_marks, classNames)\n",
        "      s = [['TN','FP'], ['FN','TP']]\n",
        "      for i in range(2):\n",
        "          for j in range(2):\n",
        "             plt.text(j,i,str(s[i][j])+\"=\"+str(cm[i][j]))\n",
        "      plt.show()\n",
        "      def plot_roc_curve(fper, tper):\n",
        "         plt.plot(fper, tper, color='red', label='ROC')\n",
        "         plt.plot([0, 1], [0, 1], color='green', linestyle='--')\n",
        "         plt.xlabel('False Positive Rate')\n",
        "         plt.ylabel('True Positive Rate')\n",
        "         plt.title('Receiver Operating Characteristic Curve')\n",
        "         plt.legend()\n",
        "         plt.show()\n",
        "      model =classifier\n",
        "      model.fit(X_train, y_train)\n",
        "      prob = model.predict_proba(X_test)\n",
        "      prob = prob[:, 1]\n",
        "      fper, tper, thresholds = roc_curve(y_test, prob)\n",
        "      plot_roc_curve(fper, tper)"
      ],
      "metadata": {
        "colab": {
          "base_uri": "https://localhost:8080/",
          "height": 1000
        },
        "id": "EXF1bZ1bckw_",
        "outputId": "cf1e3599-0638-4baf-a699-b5dc2c44b60f"
      },
      "execution_count": 31,
      "outputs": [
        {
          "output_type": "stream",
          "name": "stdout",
          "text": [
            "[[ 61   5]\n",
            " [  7 117]]\n",
            "##########\n"
          ]
        },
        {
          "output_type": "display_data",
          "data": {
            "text/plain": [
              "<Figure size 432x288 with 1 Axes>"
            ],
            "image/png": "[encoded data removed]"
          },
          "metadata": {
            "needs_background": "light"
          }
        },
        {
          "output_type": "display_data",
          "data": {
            "text/plain": [
              "<Figure size 432x288 with 1 Axes>"
            ],
            "image/png": "[encoded data removed]"
          },
          "metadata": {
            "needs_background": "light"
          }
        },
        {
          "output_type": "stream",
          "name": "stdout",
          "text": [
            "[[ 64  10]\n",
            " [  8 108]]\n",
            "##########\n"
          ]
        },
        {
          "output_type": "display_data",
          "data": {
            "text/plain": [
              "<Figure size 432x288 with 1 Axes>"
            ],
            "image/png": "[encoded data removed]"
          },
          "metadata": {
            "needs_background": "light"
          }
        },
        {
          "output_type": "display_data",
          "data": {
            "text/plain": [
              "<Figure size 432x288 with 1 Axes>"
            ],
            "image/png": "[encoded data removed]"
          },
          "metadata": {
            "needs_background": "light"
          }
        },
        {
          "output_type": "stream",
          "name": "stdout",
          "text": [
            "[[ 64   8]\n",
            " [  3 114]]\n",
            "##########\n"
          ]
        },
        {
          "output_type": "display_data",
          "data": {
            "text/plain": [
              "<Figure size 432x288 with 1 Axes>"
            ],
            "image/png": "[encoded data removed]"
          },
          "metadata": {
            "needs_background": "light"
          }
        },
        {
          "output_type": "display_data",
          "data": {
            "text/plain": [
              "<Figure size 432x288 with 1 Axes>"
            ],
            "image/png": "[encoded data removed]"
          },
          "metadata": {
            "needs_background": "light"
          }
        }
      ]
    }
  ]
}